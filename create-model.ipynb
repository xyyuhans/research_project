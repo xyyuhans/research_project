{
 "cells": [
  {
   "cell_type": "code",
   "execution_count": 8,
   "id": "e9fcad87",
   "metadata": {
    "collapsed": false
   },
   "outputs": [],
   "source": [
    "DEBUG = False\n",
    "model_name = 'mnasnet_100'"
   ]
  },
  {
   "cell_type": "code",
   "execution_count": 9,
   "id": "5e2c4194",
   "metadata": {
    "collapsed": false
   },
   "outputs": [],
   "source": [
    "import timm\n",
    "import torch"
   ]
  },
  {
   "cell_type": "code",
   "execution_count": 10,
   "id": "05c52d6a",
   "metadata": {
    "collapsed": false
   },
   "outputs": [],
   "source": [
    "if DEBUG:\n",
    "    # list all models\n",
    "    avail_pretrained_models = timm.list_models(pretrained=True)\n",
    "    print(len(avail_pretrained_models), avail_pretrained_models[:])"
   ]
  },
  {
   "cell_type": "code",
   "execution_count": 11,
   "id": "361256df",
   "metadata": {
    "collapsed": false
   },
   "outputs": [],
   "source": [
    "PATH = 'model/' + model_name + '.pt'\n",
    "model = timm.create_model(model_name, pretrained=True)\n",
    "# transfer model to eval mode (ignore some layers during test)\n",
    "# saved torchscript model can't transfer from train mode to eval mode\n",
    "# https://stackoverflow.com/questions/59774328/how-can-i-load-a-model-in-pytorch-without-redefining-the-model\n",
    "model.eval()\n",
    "example = torch.rand(1, 3, 224, 224)\n",
    "traced_script_module = torch.jit.trace(model, example)\n",
    "traced_script_module.save(PATH)"
   ]
  },
  {
   "cell_type": "code",
   "execution_count": 7,
   "id": "2c901c41",
   "metadata": {
    "collapsed": false
   },
   "outputs": [],
   "source": []
  },
  {
   "cell_type": "code",
   "execution_count": null,
   "id": "93a4ff91",
   "metadata": {
    "collapsed": false
   },
   "outputs": [],
   "source": []
  }
 ],
 "metadata": {
  "kernelspec": {
   "argv": [
    "/usr/bin/python3",
    "-m",
    "ipykernel_launcher",
    "-f",
    "{connection_file}"
   ],
   "display_name": "Python 3 (ipykernel)",
   "env": null,
   "interrupt_mode": "signal",
   "language": "python",
   "metadata": {
    "debugger": true
   },
   "name": "python3"
  },
  "language_info": {
   "codemirror_mode": {
    "name": "ipython",
    "version": 3
   },
   "file_extension": ".py",
   "mimetype": "text/x-python",
   "name": "python",
   "nbconvert_exporter": "python",
   "pygments_lexer": "ipython3",
   "version": "3.9.7"
  },
  "name": "create-model.ipynb"
 },
 "nbformat": 4,
 "nbformat_minor": 5
}
