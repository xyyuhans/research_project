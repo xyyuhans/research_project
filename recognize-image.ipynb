{
 "cells": [
  {
   "cell_type": "code",
   "execution_count": 11,
   "id": "97931e4d",
   "metadata": {
    "collapsed": false
   },
   "outputs": [],
   "source": [
    "DEBUG = False\n",
    "model_name = 'mnasnet_100'"
   ]
  },
  {
   "cell_type": "code",
   "execution_count": 12,
   "id": "35fac222",
   "metadata": {
    "collapsed": false
   },
   "outputs": [],
   "source": [
    "from PIL import Image\n",
    "import torchvision.transforms as transforms\n",
    "import torch"
   ]
  },
  {
   "cell_type": "code",
   "execution_count": 13,
   "id": "278fe7fb",
   "metadata": {
    "collapsed": false
   },
   "outputs": [],
   "source": [
    "PATH = 'model/' + model_name + '.pt'\n",
    "model = torch.jit.load(PATH)\n",
    "# saved torchscript model can't transfer from train mode to eval mode\n",
    "# model.eval()"
   ]
  },
  {
   "cell_type": "code",
   "execution_count": 14,
   "id": "d4b76085",
   "metadata": {
    "collapsed": false
   },
   "outputs": [],
   "source": [
    "def recognize(image_path):\n",
    "    \"\"\"Print top 5 possiblilities of the given image.\n",
    "\n",
    "    Args:\n",
    "      image_path: the path of the image\n",
    "\n",
    "    Returns:\n",
    "    \"\"\"\n",
    "    img = Image.open(image_path).convert('RGB')\n",
    "    transform = transforms.Compose([\n",
    "        transforms.ToTensor(),\n",
    "        transforms.Resize((224,224)),\n",
    "    ])\n",
    "    tensor = transform(img).unsqueeze(0)\n",
    "    \n",
    "    if DEBUG:\n",
    "        print(img.size)\n",
    "        print(tensor.shape)\n",
    "\n",
    "    with torch.no_grad():\n",
    "        out = model(tensor)\n",
    "    probabilities = torch.nn.functional.softmax(out[0], dim=0)\n",
    "    \n",
    "    with open(\"imagenet_classes.txt\", \"r\") as f:\n",
    "        categories = [s.strip() for s in f.readlines()]\n",
    "    top5_prob, top5_catid = torch.topk(probabilities, 5)\n",
    "    for i in range(top5_prob.size(0)):\n",
    "        print(categories[top5_catid[i]], top5_prob[i].item())"
   ]
  },
  {
   "cell_type": "code",
   "execution_count": 15,
   "id": "b08938eb",
   "metadata": {
    "collapsed": false
   },
   "outputs": [
    {
     "name": "stdout",
     "output_type": "stream",
     "text": [
      "Samoyed 0.8151047229766846\n",
      "Pomeranian 0.02057637646794319\n",
      "white wolf 0.014584108255803585\n",
      "Persian cat 0.011715124361217022\n",
      "Angora 0.009728971868753433\n"
     ]
    }
   ],
   "source": [
    "recognize('image/dog.jpg')"
   ]
  },
  {
   "cell_type": "code",
   "execution_count": 5,
   "id": "8d436fb3",
   "metadata": {
    "collapsed": false
   },
   "outputs": [],
   "source": []
  },
  {
   "cell_type": "code",
   "execution_count": null,
   "id": "14afa321",
   "metadata": {
    "collapsed": false
   },
   "outputs": [],
   "source": []
  }
 ],
 "metadata": {
  "kernelspec": {
   "argv": [
    "/usr/bin/python3",
    "-m",
    "ipykernel_launcher",
    "-f",
    "{connection_file}"
   ],
   "display_name": "Python 3 (ipykernel)",
   "env": null,
   "interrupt_mode": "signal",
   "language": "python",
   "metadata": {
    "debugger": true
   },
   "name": "python3"
  },
  "language_info": {
   "codemirror_mode": {
    "name": "ipython",
    "version": 3
   },
   "file_extension": ".py",
   "mimetype": "text/x-python",
   "name": "python",
   "nbconvert_exporter": "python",
   "pygments_lexer": "ipython3",
   "version": "3.9.7"
  },
  "name": "recognize-image.ipynb"
 },
 "nbformat": 4,
 "nbformat_minor": 5
}
