{
 "cells": [
  {
   "cell_type": "code",
   "execution_count": 68,
   "id": "c7383300",
   "metadata": {},
   "outputs": [],
   "source": [
    "DEBUG = True\n",
    "model_name = 'mobilenetv3_large_100'"
   ]
  },
  {
   "cell_type": "code",
   "execution_count": 69,
   "id": "85635b25",
   "metadata": {},
   "outputs": [],
   "source": [
    "from PIL import Image\n",
    "import torchvision.transforms as transforms\n",
    "import torch"
   ]
  },
  {
   "cell_type": "code",
   "execution_count": 70,
   "id": "a04cb4e1",
   "metadata": {},
   "outputs": [],
   "source": [
    "PATH = 'model/' + model_name + '.pth'\n",
    "model = torch.load(PATH)"
   ]
  },
  {
   "cell_type": "code",
   "execution_count": 71,
   "id": "d128aeb6",
   "metadata": {},
   "outputs": [],
   "source": [
    "def recognize(image_path):\n",
    "    \"\"\"Print top 5 possiblilities of the given image.\n",
    "\n",
    "    Args:\n",
    "      image_path: the path of the image\n",
    "\n",
    "    Returns:\n",
    "    \"\"\"\n",
    "    img = Image.open(image_path).convert('RGB')\n",
    "    transform = transforms.Compose([\n",
    "        transforms.ToTensor(),\n",
    "        transforms.Resize((224,224)),\n",
    "    ])\n",
    "    tensor = transform(img).unsqueeze(0)\n",
    "    \n",
    "    if DEBUG:\n",
    "        print(img.size)\n",
    "        print(tensor.shape)\n",
    "    \n",
    "    model.eval()\n",
    "    with torch.no_grad():\n",
    "        out = model(tensor)\n",
    "    probabilities = torch.nn.functional.softmax(out[0], dim=0)\n",
    "    \n",
    "    with open(\"imagenet_classes.txt\", \"r\") as f:\n",
    "        categories = [s.strip() for s in f.readlines()]\n",
    "    top5_prob, top5_catid = torch.topk(probabilities, 5)\n",
    "    for i in range(top5_prob.size(0)):\n",
    "        print(categories[top5_catid[i]], top5_prob[i].item())"
   ]
  },
  {
   "cell_type": "code",
   "execution_count": 72,
   "id": "00529f5c",
   "metadata": {},
   "outputs": [
    {
     "name": "stdout",
     "output_type": "stream",
     "text": [
      "(1546, 1213)\n",
      "torch.Size([1, 3, 224, 224])\n",
      "Samoyed 0.6880993247032166\n",
      "Pomeranian 0.07450685650110245\n",
      "Angora 0.011475296691060066\n",
      "wallaby 0.008571320213377476\n",
      "Arctic fox 0.008278165012598038\n"
     ]
    }
   ],
   "source": [
    "recognize('image/dog.jpg')"
   ]
  },
  {
   "cell_type": "code",
   "execution_count": null,
   "id": "6b65efe5",
   "metadata": {},
   "outputs": [],
   "source": []
  },
  {
   "cell_type": "code",
   "execution_count": null,
   "id": "841a462a",
   "metadata": {},
   "outputs": [],
   "source": []
  }
 ],
 "metadata": {
  "kernelspec": {
   "display_name": "Python 3 (ipykernel)",
   "language": "python",
   "name": "python3"
  },
  "language_info": {
   "codemirror_mode": {
    "name": "ipython",
    "version": 3
   },
   "file_extension": ".py",
   "mimetype": "text/x-python",
   "name": "python",
   "nbconvert_exporter": "python",
   "pygments_lexer": "ipython3",
   "version": "3.9.7"
  }
 },
 "nbformat": 4,
 "nbformat_minor": 5
}
