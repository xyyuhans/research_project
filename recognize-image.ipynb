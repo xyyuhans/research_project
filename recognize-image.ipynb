{
 "cells": [
  {
   "cell_type": "code",
   "execution_count": 88,
   "id": "08e7b6b2",
   "metadata": {},
   "outputs": [],
   "source": [
    "DEBUG = False\n",
    "model_name = 'mnasnet_100'"
   ]
  },
  {
   "cell_type": "code",
   "execution_count": 89,
   "id": "d9faa9d9",
   "metadata": {},
   "outputs": [],
   "source": [
    "from PIL import Image\n",
    "import torchvision.transforms as transforms\n",
    "import torch\n",
    "import torchvision"
   ]
  },
  {
   "cell_type": "code",
   "execution_count": 90,
   "id": "6d822a12",
   "metadata": {},
   "outputs": [],
   "source": [
    "PATH = 'model/' + model_name + '.pt'\n",
    "model = torch.jit.load(PATH)\n",
    "# saved torchscript model can't transfer from train mode to eval mode\n",
    "# model.eval()"
   ]
  },
  {
   "cell_type": "code",
   "execution_count": 91,
   "id": "81cd0614",
   "metadata": {},
   "outputs": [],
   "source": [
    "def recognize(image_path):\n",
    "    \"\"\"Print top 5 possiblilities of the given image.\n",
    "\n",
    "    Args:\n",
    "      image_path: the path of the image\n",
    "\n",
    "    Returns:\n",
    "    \"\"\"\n",
    "    img = Image.open(image_path).convert('RGB')\n",
    "    transform = transforms.Compose([\n",
    "        transforms.ToTensor(),\n",
    "        transforms.Resize((224,224)),\n",
    "    ])\n",
    "    tensor = transform(img).unsqueeze(0)\n",
    "    \n",
    "    if DEBUG:\n",
    "        print(img.size)\n",
    "        print(tensor.shape)\n",
    "\n",
    "    with torch.no_grad():\n",
    "        out = model(tensor)\n",
    "    probabilities = torch.nn.functional.softmax(out[0], dim=0)\n",
    "    \n",
    "    with open(\"imagenet_classes.txt\", \"r\") as f:\n",
    "        categories = [s.strip() for s in f.readlines()]\n",
    "    top5_prob, top5_catid = torch.topk(probabilities, 5)\n",
    "    for i in range(top5_prob.size(0)):\n",
    "        print(categories[top5_catid[i]], top5_prob[i].item())"
   ]
  },
  {
   "cell_type": "code",
   "execution_count": 92,
   "id": "c1fad742",
   "metadata": {},
   "outputs": [],
   "source": [
    "def accuracy():\n",
    "    transform = transforms.Compose(\n",
    "    [\n",
    "        transforms.Resize((224, 224)),\n",
    "        transforms.ToTensor(),\n",
    "    ]\n",
    ")\n",
    "\n",
    "    # image dataset is imagenet\n",
    "    # can be found https://www.kaggle.com/ifigotin/imagenetmini-1000\n",
    "    testset = torchvision.datasets.ImageFolder(\n",
    "    \"image/imagenet-mini/val\", transform=transform\n",
    ")\n",
    "\n",
    "    testloader = torch.utils.data.DataLoader(testset, batch_size=5, shuffle=True)\n",
    "\n",
    "    images, labels = iter(testloader).next()\n",
    "\n",
    "    correct = 0\n",
    "    total = 0\n",
    "    idx = 0\n",
    "    with torch.no_grad():\n",
    "        for images, labels in testloader:\n",
    "            outputs = model(images)\n",
    "            _, predicted = torch.max(outputs.data, 1)\n",
    "            total += labels.size(0)\n",
    "            correct += (predicted == labels).sum().item()\n",
    "            idx = idx + 1\n",
    "            if idx == 100:\n",
    "                break\n",
    "    print(correct / total)"
   ]
  },
  {
   "cell_type": "code",
   "execution_count": 93,
   "id": "3b3c2fa6",
   "metadata": {},
   "outputs": [
    {
     "name": "stdout",
     "output_type": "stream",
     "text": [
      "0.474\n"
     ]
    }
   ],
   "source": [
    "accuracy()"
   ]
  },
  {
   "cell_type": "code",
   "execution_count": 94,
   "id": "81e5ec99",
   "metadata": {},
   "outputs": [
    {
     "name": "stdout",
     "output_type": "stream",
     "text": [
      "Samoyed 0.8151047229766846\n",
      "Pomeranian 0.02057637646794319\n",
      "white wolf 0.014584108255803585\n",
      "Persian cat 0.011715124361217022\n",
      "Angora 0.009728971868753433\n"
     ]
    }
   ],
   "source": [
    "recognize('image/dog.jpg')\n"
   ]
  },
  {
   "cell_type": "code",
   "execution_count": null,
   "id": "998aed6e",
   "metadata": {},
   "outputs": [],
   "source": []
  },
  {
   "cell_type": "code",
   "execution_count": null,
   "id": "869ec083",
   "metadata": {},
   "outputs": [],
   "source": []
  },
  {
   "cell_type": "code",
   "execution_count": null,
   "id": "cc2b3721",
   "metadata": {},
   "outputs": [],
   "source": []
  }
 ],
 "metadata": {
  "kernelspec": {
   "display_name": "Python 3 (ipykernel)",
   "language": "python",
   "name": "python3"
  },
  "language_info": {
   "codemirror_mode": {
    "name": "ipython",
    "version": 3
   },
   "file_extension": ".py",
   "mimetype": "text/x-python",
   "name": "python",
   "nbconvert_exporter": "python",
   "pygments_lexer": "ipython3",
   "version": "3.9.7"
  },
  "name": "recognize-image.ipynb"
 },
 "nbformat": 4,
 "nbformat_minor": 5
}
